{
 "cells": [
  {
   "cell_type": "markdown",
   "metadata": {},
   "source": [
    "# Scene graph generation implementation\r\n",
    "\r\n",
    "Scene graph generation consists of several independent steps. They can be implemented separatley and used as a modules, so when we have a better object detection algorithm, we can switch to it really easy."
   ]
  },
  {
   "cell_type": "markdown",
   "metadata": {},
   "source": [
    "## 1. Object detection\r\n",
    "\r\n",
    "We first need to build a object detection model. We can use whatever model we want. Currently I know two modern variants:\r\n",
    "\r\n",
    "- Faster RCNN\r\n",
    "- YOLOv5\r\n",
    "\r\n",
    "Here I will use classical **Faster RCNN** as a backbone network."
   ]
  },
  {
   "cell_type": "code",
   "execution_count": 1,
   "metadata": {},
   "outputs": [],
   "source": [
    "'''\r\n",
    "Faster RCNN implementation.\r\n",
    "'''\r\n",
    "class FasterRCNN:\r\n",
    "    pass\r\n"
   ]
  },
  {
   "cell_type": "markdown",
   "metadata": {},
   "source": [
    "## 2. Relationship proposal"
   ]
  },
  {
   "cell_type": "code",
   "execution_count": null,
   "metadata": {},
   "outputs": [],
   "source": []
  },
  {
   "cell_type": "markdown",
   "metadata": {},
   "source": [
    "## 3. Final scene graph prediction"
   ]
  },
  {
   "cell_type": "code",
   "execution_count": null,
   "metadata": {},
   "outputs": [],
   "source": []
  }
 ],
 "metadata": {
  "kernelspec": {
   "display_name": "Python 3.7.6 64-bit (conda)",
   "name": "python376jvsc74a57bd0b4ce391b27312cb3e385c9ba23be3288518f98ea1806d9ff4fb7da1425513fcc"
  },
  "language_info": {
   "codemirror_mode": {
    "name": "ipython",
    "version": 3
   },
   "file_extension": ".py",
   "mimetype": "text/x-python",
   "name": "python",
   "nbconvert_exporter": "python",
   "pygments_lexer": "ipython3",
   "version": "3.7.6"
  },
  "orig_nbformat": 2
 },
 "nbformat": 4,
 "nbformat_minor": 2
}