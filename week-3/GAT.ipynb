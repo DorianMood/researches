{
 "cells": [
  {
   "cell_type": "code",
   "execution_count": 1,
   "metadata": {},
   "outputs": [],
   "source": [
    "import torch"
   ]
  },
  {
   "cell_type": "code",
   "execution_count": 2,
   "metadata": {},
   "outputs": [
    {
     "name": "stdout",
     "output_type": "stream",
     "text": [
      "tensor([[3.6592, 3.2656, 4.1744],\n",
      "        [1.6868, 1.7888, 2.5152],\n",
      "        [2.8553, 3.0689, 3.0117],\n",
      "        [3.5653, 3.5954, 3.4308],\n",
      "        [2.5159, 2.8016, 3.1109]])\n",
      "2\n"
     ]
    }
   ],
   "source": [
    "n = 3\n",
    "f = 10\n",
    "ff = 5\n",
    "a = torch.rand(n, 1).T\n",
    "x = torch.rand(ff, f)\n",
    "h = torch.rand(f, n)\n",
    "print(x @ h)\n",
    "print(x.dim())"
   ]
  },
  {
   "cell_type": "code",
   "execution_count": 16,
   "metadata": {},
   "outputs": [
    {
     "name": "stdout",
     "output_type": "stream",
     "text": [
      "Data(edge_index=[2, 8], x=[4, 3])\n"
     ]
    },
    {
     "data": {
      "image/png": "[encoded data removed]",
      "text/plain": [
       "<Figure size 432x288 with 1 Axes>"
      ]
     },
     "metadata": {},
     "output_type": "display_data"
    }
   ],
   "source": [
    "# Generate graph\n",
    "import networkx as nx\n",
    "from torch_geometric.data import Data\n",
    "edge_index = torch.tensor([[0, 1, 2, 0, 3, 2, 4, 2],\n",
    "                           [1, 0, 0, 2, 2, 3, 2, 4]])\n",
    "x = torch.tensor([[1, 2, 3], [1, 2, 3], [1, 2, 3], [1, 2, 3]])\n",
    "data = Data(x, edge_index)\n",
    "print(data)\n",
    "graph = nx.Graph()\n",
    "graph.add_edges_from(edge_index.transpose(0, 1).numpy())\n",
    "nx.draw(graph)"
   ]
  },
  {
   "cell_type": "markdown",
   "metadata": {},
   "source": [
    "$$ \\vec{h_{i}'}=\\sigma(\\frac{1}{K}\\sum_{k=1}^{K}\\sum_{j\\in \\mathcal{N}}a^{k}_{ij}W^{k}\\vec{h_{j}}) $$"
   ]
  },
  {
   "cell_type": "code",
   "execution_count": 17,
   "metadata": {},
   "outputs": [
    {
     "name": "stdout",
     "output_type": "stream",
     "text": [
      "tensor([[1, 2, 3],\n",
      "        [1, 2, 3],\n",
      "        [1, 2, 3],\n",
      "        [1, 2, 3]])\n"
     ]
    }
   ],
   "source": [
    "from torch_geometric.nn import MessagePassing\n",
    "\n",
    "from torch.nn import Linear\n",
    "\n",
    "class GAT(MessagePassing):\n",
    "    def __init__(self, in_channels, out_channels):\n",
    "        super(GAT, self).__init__(aggr='add')\n",
    "        \n",
    "        self.a_left = Linear(in_channels, out_channels)\n",
    "        self.a_right = Linear(in_channels, out_channels)\n",
    "        self.x_left = Linear(in_channels,out_channels)\n",
    "        self.x_right = Linear(in_channels,out_channels)\n",
    "\n",
    "\n",
    "    def forward(self, x, edge_index):\n",
    "        print(x)\n",
    "    def message(self):\n",
    "        pass\n",
    "conv1 = GAT(3, 2)\n",
    "conv1(x, edge_index)"
   ]
  },
  {
   "cell_type": "code",
   "execution_count": null,
   "metadata": {},
   "outputs": [],
   "source": []
  }
 ],
 "metadata": {
  "kernelspec": {
   "display_name": "Python 3",
   "language": "python",
   "name": "python3"
  },
  "language_info": {
   "codemirror_mode": {
    "name": "ipython",
    "version": 3
   },
   "file_extension": ".py",
   "mimetype": "text/x-python",
   "name": "python",
   "nbconvert_exporter": "python",
   "pygments_lexer": "ipython3",
   "version": "3.7.6"
  }
 },
 "nbformat": 4,
 "nbformat_minor": 4
}