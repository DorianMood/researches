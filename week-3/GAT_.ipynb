{
 "cells": [
  {
   "cell_type": "code",
   "execution_count": 1,
   "metadata": {},
   "outputs": [],
   "source": [
    "import torch\r\n",
    "from torch_geometric.nn import MessagePassing"
   ]
  },
  {
   "cell_type": "code",
   "execution_count": 4,
   "metadata": {},
   "outputs": [
    {
     "name": "stdout",
     "output_type": "stream",
     "text": [
      "[[0 1]\n",
      " [1 0]\n",
      " [2 0]\n",
      " [3 2]\n",
      " [4 2]]\n"
     ]
    },
    {
     "data": {
      "image/png": "[encoded data removed]",
      "image/svg+xml": "<?xml version=\"1.0\" encoding=\"utf-8\" standalone=\"no\"?>\r\n<!DOCTYPE svg PUBLIC \"-//W3C//DTD SVG 1.1//EN\"\r\n  \"http://www.w3.org/Graphics/SVG/1.1/DTD/svg11.dtd\">\r\n<!-- Created with matplotlib (https://matplotlib.org/) -->\r\n<svg height=\"302.4pt\" version=\"1.1\" viewBox=\"0 0 446.4 302.4\" width=\"446.4pt\" xmlns=\"http://www.w3.org/2000/svg\" xmlns:xlink=\"http://www.w3.org/1999/xlink\">\r\n <defs>\r\n  <style type=\"text/css\">\r\n*{stroke-linecap:butt;stroke-linejoin:round;}\r\n  </style>\r\n </defs>\r\n <g id=\"figure_1\">\r\n  <g id=\"patch_1\">\r\n   <path d=\"M 0 302.4 \r\nL 446.4 302.4 \r\nL 446.4 0 \r\nL 0 0 \r\nz\r\n\" style=\"fill:#ffffff;\"/>\r\n  </g>\r\n  <g id=\"axes_1\">\r\n   <g id=\"LineCollection_1\">\r\n    <path clip-path=\"url(#p63927cd3ef)\" d=\"M 137.123919 94.82977 \r\nL 30.810371 24.182113 \r\n\" style=\"fill:none;stroke:#000000;\"/>\r\n    <path clip-path=\"url(#p63927cd3ef)\" d=\"M 137.123919 94.82977 \r\nL 261.096897 177.469929 \r\n\" style=\"fill:none;stroke:#000000;\"/>\r\n    <path clip-path=\"url(#p63927cd3ef)\" d=\"M 261.096897 177.469929 \r\nL 415.589629 169.372456 \r\n\" style=\"fill:none;stroke:#000000;\"/>\r\n    <path clip-path=\"url(#p63927cd3ef)\" d=\"M 261.096897 177.469929 \r\nL 248.322648 278.217887 \r\n\" style=\"fill:none;stroke:#000000;\"/>\r\n   </g>\r\n   <g id=\"PathCollection_1\">\r\n    <defs>\r\n     <path d=\"M 0 8.660254 \r\nC 2.296726 8.660254 4.499694 7.747755 6.123724 6.123724 \r\nC 7.747755 4.499694 8.660254 2.296726 8.660254 0 \r\nC 8.660254 -2.296726 7.747755 -4.499694 6.123724 -6.123724 \r\nC 4.499694 -7.747755 2.296726 -8.660254 0 -8.660254 \r\nC -2.296726 -8.660254 -4.499694 -7.747755 -6.123724 -6.123724 \r\nC -7.747755 -4.499694 -8.660254 -2.296726 -8.660254 0 \r\nC -8.660254 2.296726 -7.747755 4.499694 -6.123724 6.123724 \r\nC -4.499694 7.747755 -2.296726 8.660254 0 8.660254 \r\nz\r\n\" id=\"mebc72ff75d\" style=\"stroke:#1f78b4;\"/>\r\n    </defs>\r\n    <g clip-path=\"url(#p63927cd3ef)\">\r\n     <use style=\"fill:#1f78b4;stroke:#1f78b4;\" x=\"137.123919\" xlink:href=\"#mebc72ff75d\" y=\"94.82977\"/>\r\n     <use style=\"fill:#1f78b4;stroke:#1f78b4;\" x=\"30.810371\" xlink:href=\"#mebc72ff75d\" y=\"24.182113\"/>\r\n     <use style=\"fill:#1f78b4;stroke:#1f78b4;\" x=\"261.096897\" xlink:href=\"#mebc72ff75d\" y=\"177.469929\"/>\r\n     <use style=\"fill:#1f78b4;stroke:#1f78b4;\" x=\"415.589629\" xlink:href=\"#mebc72ff75d\" y=\"169.372456\"/>\r\n     <use style=\"fill:#1f78b4;stroke:#1f78b4;\" x=\"248.322648\" xlink:href=\"#mebc72ff75d\" y=\"278.217887\"/>\r\n    </g>\r\n   </g>\r\n  </g>\r\n </g>\r\n <defs>\r\n  <clipPath id=\"p63927cd3ef\">\r\n   <rect height=\"288\" width=\"432\" x=\"7.2\" y=\"7.2\"/>\r\n  </clipPath>\r\n </defs>\r\n</svg>\r\n",
      "text/plain": "<Figure size 432x288 with 1 Axes>"
     },
     "metadata": {
      "transient": {}
     },
     "output_type": "display_data"
    }
   ],
   "source": [
    "# Generate graph\r\n",
    "import networkx as nx\r\n",
    "from torch_geometric.data import Data\r\n",
    "edge_index = torch.tensor([[0, 1, 2, 3, 4],\r\n",
    "                           [1, 0, 0, 2, 2]])\r\n",
    "x = torch.tensor([[1, 2, 3], [1, 2, 3], [1, 2, 3], [1, 2, 3]])\r\n",
    "data = Data(x, edge_index)\r\n",
    "graph = nx.Graph()\r\n",
    "graph.add_edges_from(edge_index.transpose(0, 1).numpy())\r\n",
    "nx.draw(graph)"
   ]
  },
  {
   "cell_type": "code",
   "execution_count": 2,
   "metadata": {},
   "outputs": [],
   "source": [
    "from torch_geometric.nn import MessagePassing\r\n",
    "from torch.nn import Linear\r\n",
    "\r\n",
    "class GAT(MessagePassing):\r\n",
    "    def __init__(self, in_channels, out_channels):\r\n",
    "        super(GAT, self).__init__(aggr='add')\r\n",
    "        \r\n",
    "        self.a_left = Linear(in_channels, out_channels)\r\n",
    "        self.a_right = Linear(in_channels, out_channels)\r\n",
    "        self.x_left = Linear(in_channels,out_channels)\r\n",
    "        self.x_right = Linear(in_channels,out_channels)\r\n",
    "\r\n",
    "\r\n",
    "    def forward(self, x, edge_index):\r\n",
    "        print(x)\r\n",
    "    def message(self):\r\n",
    "        pass\r\n",
    "conv1 = GAT(3, 1)"
   ]
  },
  {
   "cell_type": "code",
   "execution_count": 33,
   "metadata": {},
   "outputs": [
    {
     "name": "stdout",
     "output_type": "stream",
     "text": [
      "tensor([[1.9825, 0.8766, 1.9855],\n",
      "        [2.6685, 1.1888, 2.2675],\n",
      "        [2.3274, 0.8966, 2.3109],\n",
      "        [3.0113, 0.8982, 2.1997],\n",
      "        [3.5225, 1.6592, 2.1133]])\n",
      "2\n"
     ]
    }
   ],
   "source": [
    "n = 3\r\n",
    "f = 10\r\n",
    "ff = 5\r\n",
    "a = torch.rand(n, 1).T\r\n",
    "x = torch.rand(ff, f)\r\n",
    "h = torch.rand(f, n)\r\n",
    "print(x @ h)\r\n",
    "print(x.dim())"
   ]
  }
 ],
 "metadata": {
  "kernelspec": {
   "display_name": "Python 3",
   "language": "python",
   "name": "python3"
  },
  "language_info": {
   "codemirror_mode": {
    "name": "ipython",
    "version": 3
   },
   "file_extension": ".py",
   "mimetype": "text/x-python",
   "name": "python",
   "nbconvert_exporter": "python",
   "pygments_lexer": "ipython3",
   "version": "3.7.6-final"
  }
 },
 "nbformat": 4,
 "nbformat_minor": 4
}