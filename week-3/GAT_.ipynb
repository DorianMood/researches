{
 "cells": [
  {
   "cell_type": "code",
   "execution_count": 1,
   "metadata": {},
   "outputs": [],
   "source": [
    "import torch\r\n",
    "from torch_geometric.nn import MessagePassing"
   ]
  },
  {
   "cell_type": "code",
   "execution_count": 2,
   "metadata": {},
   "outputs": [
    {
     "data": {
      "image/png": "[encoded data removed]",
      "image/svg+xml": "<?xml version=\"1.0\" encoding=\"utf-8\" standalone=\"no\"?>\r\n<!DOCTYPE svg PUBLIC \"-//W3C//DTD SVG 1.1//EN\"\r\n  \"http://www.w3.org/Graphics/SVG/1.1/DTD/svg11.dtd\">\r\n<!-- Created with matplotlib (https://matplotlib.org/) -->\r\n<svg height=\"302.4pt\" version=\"1.1\" viewBox=\"0 0 446.4 302.4\" width=\"446.4pt\" xmlns=\"http://www.w3.org/2000/svg\" xmlns:xlink=\"http://www.w3.org/1999/xlink\">\r\n <defs>\r\n  <style type=\"text/css\">\r\n*{stroke-linecap:butt;stroke-linejoin:round;}\r\n  </style>\r\n </defs>\r\n <g id=\"figure_1\">\r\n  <g id=\"patch_1\">\r\n   <path d=\"M 0 302.4 \r\nL 446.4 302.4 \r\nL 446.4 0 \r\nL 0 0 \r\nz\r\n\" style=\"fill:#ffffff;\"/>\r\n  </g>\r\n  <g id=\"axes_1\">\r\n   <g id=\"LineCollection_1\">\r\n    <path clip-path=\"url(#pdec07d7191)\" d=\"M 255.077738 190.082281 \r\nL 273.15775 277.46141 \r\n\" style=\"fill:none;stroke:#000000;\"/>\r\n    <path clip-path=\"url(#pdec07d7191)\" d=\"M 255.077738 190.082281 \r\nL 233.989002 87.347296 \r\n\" style=\"fill:none;stroke:#000000;\"/>\r\n    <path clip-path=\"url(#pdec07d7191)\" d=\"M 233.989002 87.347296 \r\nL 411.043391 24.93859 \r\n\" style=\"fill:none;stroke:#000000;\"/>\r\n    <path clip-path=\"url(#pdec07d7191)\" d=\"M 233.989002 87.347296 \r\nL 35.356609 34.675672 \r\n\" style=\"fill:none;stroke:#000000;\"/>\r\n   </g>\r\n   <g id=\"PathCollection_1\">\r\n    <defs>\r\n     <path d=\"M 0 8.660254 \r\nC 2.296726 8.660254 4.499694 7.747755 6.123724 6.123724 \r\nC 7.747755 4.499694 8.660254 2.296726 8.660254 0 \r\nC 8.660254 -2.296726 7.747755 -4.499694 6.123724 -6.123724 \r\nC 4.499694 -7.747755 2.296726 -8.660254 0 -8.660254 \r\nC -2.296726 -8.660254 -4.499694 -7.747755 -6.123724 -6.123724 \r\nC -7.747755 -4.499694 -8.660254 -2.296726 -8.660254 0 \r\nC -8.660254 2.296726 -7.747755 4.499694 -6.123724 6.123724 \r\nC -4.499694 7.747755 -2.296726 8.660254 0 8.660254 \r\nz\r\n\" id=\"m858f4c82e5\" style=\"stroke:#1f78b4;\"/>\r\n    </defs>\r\n    <g clip-path=\"url(#pdec07d7191)\">\r\n     <use style=\"fill:#1f78b4;stroke:#1f78b4;\" x=\"255.077738\" xlink:href=\"#m858f4c82e5\" y=\"190.082281\"/>\r\n     <use style=\"fill:#1f78b4;stroke:#1f78b4;\" x=\"273.15775\" xlink:href=\"#m858f4c82e5\" y=\"277.46141\"/>\r\n     <use style=\"fill:#1f78b4;stroke:#1f78b4;\" x=\"233.989002\" xlink:href=\"#m858f4c82e5\" y=\"87.347296\"/>\r\n     <use style=\"fill:#1f78b4;stroke:#1f78b4;\" x=\"411.043391\" xlink:href=\"#m858f4c82e5\" y=\"24.93859\"/>\r\n     <use style=\"fill:#1f78b4;stroke:#1f78b4;\" x=\"35.356609\" xlink:href=\"#m858f4c82e5\" y=\"34.675672\"/>\r\n    </g>\r\n   </g>\r\n  </g>\r\n </g>\r\n <defs>\r\n  <clipPath id=\"pdec07d7191\">\r\n   <rect height=\"288\" width=\"432\" x=\"7.2\" y=\"7.2\"/>\r\n  </clipPath>\r\n </defs>\r\n</svg>\r\n",
      "text/plain": "<Figure size 432x288 with 1 Axes>"
     },
     "metadata": {
      "transient": {}
     },
     "output_type": "display_data"
    }
   ],
   "source": [
    "# Generate graph\r\n",
    "import networkx as nx\r\n",
    "from torch_geometric.data import Data\r\n",
    "edge_index = torch.tensor([[0, 1, 2, 0, 3, 2, 4, 2],\r\n",
    "                           [1, 0, 0, 2, 2, 3, 2, 4]], dtype=torch.long)\r\n",
    "x = torch.tensor([[0, 2, 3], [9, 2, 3], [8, 2, 3], [7, 2, 3], [6, 2, 3]], dtype=torch.float32)\r\n",
    "data = Data(x, edge_index)\r\n",
    "graph = nx.Graph()\r\n",
    "graph.add_edges_from(edge_index.transpose(0, 1).numpy())\r\n",
    "nx.draw(graph)"
   ]
  },
  {
   "cell_type": "code",
   "execution_count": 3,
   "metadata": {},
   "outputs": [
    {
     "name": "stdout",
     "output_type": "stream",
     "text": [
      "torch.Size([5, 3]) torch.float32\n"
     ]
    }
   ],
   "source": [
    "from torch_geometric.nn import MessagePassing\r\n",
    "from torch.nn import Linear, Parameter\r\n",
    "import torch.nn.functional as F\r\n",
    "from torch_geometric.utils import softmax\r\n",
    "\r\n",
    "class GATLayer(MessagePassing):\r\n",
    "    def __init__(self, in_channels, out_channels):\r\n",
    "        super(GATLayer, self).__init__(aggr='add')\r\n",
    "        \r\n",
    "        self.in_channels = in_channels\r\n",
    "        self.out_channels = out_channels\r\n",
    "\r\n",
    "        self.a_left = Linear(in_channels, out_channels)\r\n",
    "        self.a_right = Linear(in_channels, out_channels)\r\n",
    "        self.lin = Linear(in_channels, out_channels)\r\n",
    "        self.alpha = Parameter(torch.Tensor(1, 1, out_channels))\r\n",
    "\r\n",
    "\r\n",
    "    def forward(self, x, edge_index):\r\n",
    "        # 1. Calculate X transform\r\n",
    "        print(x.shape, x.dtype)\r\n",
    "        x_left = x_right = self.lin(x).view(-1, 1, self.out_channels)\r\n",
    "        a = x_left * self.alpha\r\n",
    "\r\n",
    "        return self.propagate(edge_index, x=(x_left, x_right), a=(a, a))\r\n",
    "\r\n",
    "    def message(self, x_j, x_i, index, a_i, a_j):\r\n",
    "        # Generate new features\r\n",
    "        # Calculate attention\r\n",
    "        a = a_i + a_j\r\n",
    "\r\n",
    "        a = F.leaky_relu(a, 0.2)\r\n",
    "        a = softmax(a, index)\r\n",
    "\r\n",
    "        return x_j * a.unsqueeze(-1)\r\n",
    "\r\n",
    "\r\n",
    "conv1 = GATLayer(3, 1)\r\n",
    "_ = conv1(x, edge_index)"
   ]
  },
  {
   "cell_type": "code",
   "execution_count": 4,
   "metadata": {},
   "outputs": [],
   "source": [
    "from torch_geometric.nn import GATConv\r\n",
    "\r\n",
    "class GAT(torch.nn.Module):\r\n",
    "    def __init__(self, in_channels, out_channels):\r\n",
    "        super(GAT, self).__init__()\r\n",
    "        self.conv1 = GATConv(in_channels, out_channels)\r\n",
    "        #self.conv1 = GATLayer(in_channels, out_channels)\r\n",
    "\r\n",
    "    def forward(self, x, edge_index):\r\n",
    "        return F.softmax(self.conv1(x, edge_index))\r\n"
   ]
  },
  {
   "cell_type": "code",
   "execution_count": 5,
   "metadata": {},
   "outputs": [],
   "source": [
    "from torch_geometric.datasets import Planetoid\r\n",
    "from torch_geometric.data import DataLoader\r\n",
    "\r\n",
    "dataset = Planetoid('./data', 'Cora')\r\n",
    "train_loader = DataLoader(dataset, batch_size=1)"
   ]
  },
  {
   "cell_type": "code",
   "execution_count": 6,
   "metadata": {},
   "outputs": [
    {
     "data": {
      "text/plain": "Data(edge_index=[2, 10556], test_mask=[2708], train_mask=[2708], val_mask=[2708], x=[2708, 1433], y=[2708])"
     },
     "execution_count": 6,
     "metadata": {},
     "output_type": "execute_result"
    }
   ],
   "source": [
    "dataset[0]"
   ]
  },
  {
   "cell_type": "code",
   "execution_count": 8,
   "metadata": {},
   "outputs": [],
   "source": [
    "device = torch.device('cuda' if torch.cuda.is_available() else 'cpu')\r\n",
    "model = GAT(dataset.num_node_features, dataset.num_classes).to(device)\r\n",
    "data = dataset[0].to(device)\r\n",
    "\r\n",
    "optimizer = torch.optim.Adam(model.parameters(), lr=0.01, weight_decay=5e-4)\r\n",
    "\r\n",
    "for epoch in range(200):\r\n",
    "    model.train()\r\n",
    "    optimizer.zero_grad()\r\n",
    "    out = model(data.x, data.edge_index)\r\n",
    "    loss = F.nll_loss(out[data.train_mask], data.y[data.train_mask])\r\n",
    "    loss.backward()\r\n",
    "    optimizer.step()"
   ]
  },
  {
   "cell_type": "code",
   "execution_count": 33,
   "metadata": {},
   "outputs": [
    {
     "name": "stdout",
     "output_type": "stream",
     "text": [
      "torch.Size([2708])\n",
      "0.626\n"
     ]
    }
   ],
   "source": [
    "model.eval()\r\n",
    "predictions = torch.argmax(model(data.x, data.edge_index), dim=1)\r\n",
    "print(predictions.shape)\r\n",
    "correct = float(predictions[data.test_mask].eq(data.y[data.test_mask]).sum().item())\r\n",
    "print(correct / float(data.test_mask.sum()))"
   ]
  },
  {
   "cell_type": "code",
   "execution_count": 68,
   "metadata": {},
   "outputs": [
    {
     "name": "stdout",
     "output_type": "stream",
     "text": [
      "tensor([[2.1851, 2.0249, 1.8470],\n",
      "        [2.4945, 1.4813, 2.1242],\n",
      "        [2.9714, 2.8518, 2.6886],\n",
      "        [2.6581, 2.8853, 3.2042],\n",
      "        [2.4496, 2.0611, 2.8559]])\n",
      "2\n",
      "tensor([[0.0863, 0.5627, 0.2210]])\n"
     ]
    }
   ],
   "source": [
    "n = 3\r\n",
    "f = 10\r\n",
    "ff = 5\r\n",
    "a = torch.rand(n, 1).T\r\n",
    "x = torch.rand(ff, f)\r\n",
    "h = torch.rand(f, n)\r\n",
    "print(x @ h)\r\n",
    "print(x.dim())\r\n",
    "print(a)"
   ]
  }
 ],
 "metadata": {
  "kernelspec": {
   "display_name": "Python 3",
   "language": "python",
   "name": "python3"
  },
  "language_info": {
   "codemirror_mode": {
    "name": "ipython",
    "version": 3
   },
   "file_extension": ".py",
   "mimetype": "text/x-python",
   "name": "python",
   "nbconvert_exporter": "python",
   "pygments_lexer": "ipython3",
   "version": "3.7.6"
  }
 },
 "nbformat": 4,
 "nbformat_minor": 4
}